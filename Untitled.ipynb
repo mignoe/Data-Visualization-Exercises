{
 "cells": [
  {
   "cell_type": "code",
   "execution_count": null,
   "id": "da9fcc6a",
   "metadata": {},
   "outputs": [],
   "source": [
    "### Importing necessaries libraries"
   ]
  },
  {
   "cell_type": "code",
   "execution_count": 2,
   "id": "57ee774e",
   "metadata": {},
   "outputs": [],
   "source": [
    "import pandas as pd"
   ]
  },
  {
   "cell_type": "code",
   "execution_count": null,
   "id": "3acde044",
   "metadata": {},
   "outputs": [],
   "source": [
    "### Merging all "
   ]
  }
 ],
 "metadata": {
  "kernelspec": {
   "display_name": "Python 3 (ipykernel)",
   "language": "python",
   "name": "python3"
  },
  "language_info": {
   "codemirror_mode": {
    "name": "ipython",
    "version": 3
   },
   "file_extension": ".py",
   "mimetype": "text/x-python",
   "name": "python",
   "nbconvert_exporter": "python",
   "pygments_lexer": "ipython3",
   "version": "3.10.7"
  }
 },
 "nbformat": 4,
 "nbformat_minor": 5
}
